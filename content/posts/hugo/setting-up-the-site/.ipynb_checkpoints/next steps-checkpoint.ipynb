{
 "cells": [
  {
   "cell_type": "markdown",
   "metadata": {},
   "source": [
    "---\n",
    "# Documentation: https://sourcethemes.com/academic/docs/managing-content/\n",
    "\n",
    "title: \"next steps / mSetting up the site structure\"\n",
    "subtitle: \"Creating a new Hugo post to display a Jupyter Notebook\"\n",
    "summary: \"How to create a new Hugo post to display a Jupyter Notebook\"\n",
    "#authors: []\n",
    "type: post\n",
    "\n",
    "categories: [hugo]\n",
    "tags: [Jupyter, Tutorial]\n",
    "\n",
    "date: 2020-05-12T00:18:26+01:00\n",
    "lastmod: 2020-05-12T00:18:26+01:00\n",
    "featured: false\n",
    "draft: false\n",
    "\n",
    "# Featured image\n",
    "# To use, add an image named `featured.jpg/png` to your page's folder.\n",
    "# Focal points: Smart, Center, TopLeft, Top, TopRight, Left, Right, BottomLeft, Bottom, BottomRight.\n",
    "image:\n",
    "  caption: \"\"\n",
    "  focal_point: \"\"\n",
    "  preview_only: false\n",
    "\n",
    "# Projects (optional).\n",
    "#   Associate this post with one or more of your projects.\n",
    "#   Simply enter your project's folder or file name without extension.\n",
    "#   E.g. `projects = [\"internal-project\"]` references `content/project/deep-learning/index.md`.\n",
    "#   Otherwise, set `projects = []`.\n",
    "projects: []\n",
    "---"
   ]
  },
  {
   "cell_type": "code",
   "execution_count": null,
   "metadata": {},
   "outputs": [],
   "source": []
  },
  {
   "cell_type": "markdown",
   "metadata": {},
   "source": [
    "## delete default hugo files and copy theme dot files\n",
    " \n",
    "- delete config.toml `del config.toml`\n",
    "- delete files in archetypes `del archetypes`\n",
    "\n",
    "- copy .gitignore `copy themes\\academic\\.gitignore .gitignore`\n",
    "- copy .editorconfig `copy themes\\academic\\.editorconfig .editorconfig`\n",
    "- copy netlify.toml `copy themes\\academic\\netlify.toml netlify.toml`\n",
    "\n",
    "- copy config folder `xcopy /E themes\\academic\\exampleSite\\config config `\n",
    "- copy authors folder in content `xcopy /E /I themes\\academic\\exampleSite\\content\\authors .\\content\\authors`\n",
    "\n",
    "- make content folders - home, art, ceramics `mkdir content\\art`\n",
    "- copy index.md `copy themes\\academic\\exampleSite\\content\\home\\index.md .\\content\\home `\n",
    "- copy gallery widget (talke about this more later) - `xcopy /E /I themes\\academic\\exampleSite\\content\\home\\gallery .\\content\\home\\gallery`\n",
    "\n",
    "- git add .\n",
    "- git commit -m \"set up basic structure with gallery\"\n",
    "\n",
    "can now do hugo server -D and see very early preview of site.\n"
   ]
  },
  {
   "cell_type": "markdown",
   "metadata": {},
   "source": [
    "## now go thru config:\n",
    "\n",
    "### config.toml\n",
    "- basic, go thru in visual code and self explanatory. to start with change title, baseurl, etc. we can look at other options later.\n",
    "\n",
    "### config.toml\n",
    "- basic, go thru in visual code and self explanatory. to start with change title, baseurl, etc. we can look at other options later. if you change something and save, hugo upadtes the site in realtime.\n",
    "\n",
    "### menu.toml\n",
    "- i'm having three items in the menu. Ceramics, Art, About/Contact. Link is \"/ceramics if you want to have its own page or \"#ceramics# if you want to link to the main page. Weight is the order.\n",
    "\n",
    "### params\n",
    "- update email, phone, address, cordinates, etc. comment out anything else. can change things like main menu alignment."
   ]
  },
  {
   "cell_type": "markdown",
   "metadata": {},
   "source": [
    "## update author detials\n",
    "\n",
    "- notice if you click on the about menu you'll get a 404 not found. lets set up the directory.\n",
    "- create the content about folder `mkdir content\\about`\n",
    "- now copy index.md, contact.md. about.md `copy themes\\academic\\exampleSite\\content\\home\\index.md .\\content\\about`\n",
    "- open index, add `title = \"About Linda\"`. comment out headless = true.\n",
    "- contact.md can be pretty much left alone. can change title if wanted.\n",
    "- about.md, change author to linda (or name of folder in authors). can change title if wanted.\n",
    "- stop hugo server (ctrl + c) then restart (up arrow or hugo server -D)\n",
    "- now if you clieck on your preview you should get a preview\n",
    "\n",
    "- change admin folder to linda\n",
    "- open index.md and go through and update. self explanotry. built for academics (hence the theme, but can be used for variety of use cases - e.g an artist in this example. change social contacts, interests. the content goes after the TOML header.\n",
    "- add a photo to content/authors/linda called avartar.jpg\n"
   ]
  },
  {
   "cell_type": "markdown",
   "metadata": {},
   "source": [
    "gallery:\n",
    "- open index.md - change title\n",
    "- how do i make links?"
   ]
  },
  {
   "cell_type": "markdown",
   "metadata": {},
   "source": [
    "have a look at the example site (link) but canb use widgets (or blank widgets to create your own)... \n",
    "\n",
    "eg. i also addded a tags, posts, etc"
   ]
  },
  {
   "cell_type": "code",
   "execution_count": null,
   "metadata": {},
   "outputs": [],
   "source": []
  },
  {
   "cell_type": "markdown",
   "metadata": {},
   "source": [
    "favicon / webicon : save 512x512 image in assets/images as icon.png\n",
    "custom theme\n",
    "remove academic hugo"
   ]
  },
  {
   "cell_type": "markdown",
   "metadata": {},
   "source": [
    "new ceramics post\n",
    "- create archetytpes\n",
    "\n",
    "- use hugo new  --kind post post/my-article-name\n",
    "\n",
    "now set up cms"
   ]
  },
  {
   "cell_type": "markdown",
   "metadata": {},
   "source": [
    "open netlify.toml\n",
    "\n",
    "update to version\n",
    "remove base\n",
    "remove hugo theme\n",
    "\n",
    "- a few changes to the default one, can copy paste mine here. or go thru each one line by line?\n",
    "\n",
    "change publish to be = \"public\"\n",
    "git add .\n",
    "git commit -m \"update netlify config\"\n",
    "git push\n",
    "\n",
    "open netlify\n",
    "new site from git\n",
    "git hub\n",
    "select repo\n",
    "hit deploy\n"
   ]
  }
 ],
 "metadata": {
  "kernelspec": {
   "display_name": "Python 3",
   "language": "python",
   "name": "python3"
  },
  "language_info": {
   "codemirror_mode": {
    "name": "ipython",
    "version": 3
   },
   "file_extension": ".py",
   "mimetype": "text/x-python",
   "name": "python",
   "nbconvert_exporter": "python",
   "pygments_lexer": "ipython3",
   "version": "3.8.2"
  }
 },
 "nbformat": 4,
 "nbformat_minor": 4
}
